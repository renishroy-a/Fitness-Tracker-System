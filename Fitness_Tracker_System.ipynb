{
  "nbformat": 4,
  "nbformat_minor": 0,
  "metadata": {
    "colab": {
      "provenance": [],
      "authorship_tag": "ABX9TyOcP7oZ8RAB5IXcsQJF8HqF",
      "include_colab_link": true
    },
    "kernelspec": {
      "name": "python3",
      "display_name": "Python 3"
    },
    "language_info": {
      "name": "python"
    }
  },
  "cells": [
    {
      "cell_type": "markdown",
      "metadata": {
        "id": "view-in-github",
        "colab_type": "text"
      },
      "source": [
        "<a href=\"https://colab.research.google.com/github/renishroy-a/Fitness-Tracker-System/blob/main/Fitness_Tracker_System.ipynb\" target=\"_parent\"><img src=\"https://colab.research.google.com/assets/colab-badge.svg\" alt=\"Open In Colab\"/></a>"
      ]
    },
    {
      "cell_type": "code",
      "execution_count": 1,
      "metadata": {
        "colab": {
          "base_uri": "https://localhost:8080/"
        },
        "id": "-I8rZ3tQizin",
        "outputId": "a982d55a-7355-4fd5-da4c-714073590c73"
      },
      "outputs": [
        {
          "output_type": "stream",
          "name": "stdout",
          "text": [
            "Enter your name: reni\n",
            "Set your calorie burn goal: 200\n",
            "Enter workout type (or 'done' to finish): done\n",
            "User: reni, Goals: {'calories_burned': 200}, Workouts: []\n",
            "Progress towards goals:\n",
            "calories_burned: 0 / 200\n"
          ]
        }
      ],
      "source": [
        "class User:\n",
        "    def __init__(self, name):\n",
        "        self.name = name\n",
        "        self.workouts = []\n",
        "        self.goals = {}\n",
        "\n",
        "    def add_workout(self, workout):\n",
        "        self.workouts.append(workout)\n",
        "\n",
        "    def set_goal(self, goal_type, target_value):\n",
        "        self.goals[goal_type] = target_value\n",
        "\n",
        "    def get_progress(self):\n",
        "        progress = {}\n",
        "        for goal_type, target_value in self.goals.items():\n",
        "            total = sum(workout[goal_type] for workout in self.workouts if goal_type in workout)\n",
        "            progress[goal_type] = total\n",
        "        return progress\n",
        "\n",
        "    def __str__(self):\n",
        "        return f\"User: {self.name}, Goals: {self.goals}, Workouts: {self.workouts}\"\n",
        "\n",
        "\n",
        "class Workout:\n",
        "    def __init__(self, type, duration, calories_burned):\n",
        "        self.type = type\n",
        "        self.duration = duration  # in minutes\n",
        "        self.calories_burned = calories_burned\n",
        "\n",
        "    def to_dict(self):\n",
        "        return {\n",
        "            'type': self.type,\n",
        "            'duration': self.duration,\n",
        "            'calories_burned': self.calories_burned\n",
        "        }\n",
        "\n",
        "    def __str__(self):\n",
        "        return f\"Workout(type={self.type}, duration={self.duration}min, calories_burned={self.calories_burned})\"\n",
        "\n",
        "\n",
        "def main():\n",
        "    # Create a new user\n",
        "    user_name = input(\"Enter your name: \")\n",
        "    user = User(user_name)\n",
        "\n",
        "    # Set fitness goals\n",
        "    calories_goal = int(input(\"Set your calorie burn goal: \"))\n",
        "    user.set_goal('calories_burned', calories_goal)\n",
        "\n",
        "    while True:\n",
        "        # Add workouts\n",
        "        workout_type = input(\"Enter workout type (or 'done' to finish): \")\n",
        "        if workout_type.lower() == 'done':\n",
        "            break\n",
        "        duration = int(input(\"Enter workout duration in minutes: \"))\n",
        "        calories_burned = int(input(\"Enter calories burned: \"))\n",
        "\n",
        "        workout = Workout(workout_type, duration, calories_burned)\n",
        "        user.add_workout(workout.to_dict())\n",
        "\n",
        "    # Display user information and progress\n",
        "    print(user)\n",
        "    progress = user.get_progress()\n",
        "    print(\"Progress towards goals:\")\n",
        "    for goal_type, total in progress.items():\n",
        "        print(f\"{goal_type}: {total} / {user.goals.get(goal_type, 'Not Set')}\")\n",
        "\n",
        "\n",
        "if __name__ == \"__main__\":\n",
        "    main()\n",
        "\n",
        ""
      ]
    },
    {
      "cell_type": "code",
      "source": [],
      "metadata": {
        "id": "ceFxTni9i_bn"
      },
      "execution_count": null,
      "outputs": []
    }
  ]
}